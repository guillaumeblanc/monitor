{
 "cells": [
  {
   "cell_type": "code",
   "execution_count": 1,
   "metadata": {},
   "outputs": [],
   "source": [
    "import glob\n",
    "import pandas as pd\n",
    "from pathlib import Path\n",
    "\n",
    "import plotly.express as px\n",
    "import plotly.io as pio\n",
    "pio.templates.default = 'plotly_white'\n",
    "\n",
    "from src import std_utils\n"
   ]
  },
  {
   "cell_type": "code",
   "execution_count": 3,
   "metadata": {},
   "outputs": [],
   "source": [
    "path = Path('data/std')\n",
    "\n",
    "# Loads plants\n",
    "plants = std_utils.from_csv(path / 'plants.csv')\n",
    "plants = plants[['plant_code', 'plant_name', 'capacity']]\n",
    "\n",
    "# Loads plants data, merges with plants information (get plants name)\n",
    "realtime = pd.merge(pd.concat(std_utils.from_csvs(path, 'realtime_*.csv')), plants, on=['plant_code'])\n",
    "hourly = pd.merge(pd.concat(std_utils.from_csvs(path, 'hourly_*.csv')), plants, on=['plant_code'])\n",
    "daily = pd.merge(pd.concat(std_utils.from_csvs(path, 'daily_*.csv')), plants, on=['plant_code'])\n",
    "monthly = pd.merge(pd.concat(std_utils.from_csvs(path, 'monthly.csv')), plants, on=['plant_code'])\n",
    "yearly = pd.merge(pd.concat(std_utils.from_csvs(path, 'yearly.csv')), plants, on=['plant_code'])\n"
   ]
  },
  {
   "cell_type": "code",
   "execution_count": null,
   "metadata": {},
   "outputs": [],
   "source": [
    "fig = px.bar(realtime, x='collect_time', y='total_power',\n",
    "             color='plant_name',\n",
    "             labels=std_utils.descriptions())\n",
    "#fig.write_html('data/hourly.html', include_plotlyjs='cdn')\n",
    "fig.show()"
   ]
  },
  {
   "cell_type": "code",
   "execution_count": null,
   "metadata": {},
   "outputs": [],
   "source": [
    "fig = px.bar(hourly, x='collect_time', y='inverter_power',\n",
    "             color='plant_name',\n",
    "             labels=std_utils.descriptions())\n",
    "#fig.write_html('data/hourly.html', include_plotlyjs='cdn')\n",
    "fig.show()\n"
   ]
  },
  {
   "cell_type": "code",
   "execution_count": null,
   "metadata": {},
   "outputs": [],
   "source": []
  }
 ],
 "metadata": {
  "kernelspec": {
   "display_name": "Python 3",
   "language": "python",
   "name": "python3"
  },
  "language_info": {
   "codemirror_mode": {
    "name": "ipython",
    "version": 3
   },
   "file_extension": ".py",
   "mimetype": "text/x-python",
   "name": "python",
   "nbconvert_exporter": "python",
   "pygments_lexer": "ipython3",
   "version": "3.9.6"
  },
  "orig_nbformat": 4,
  "vscode": {
   "interpreter": {
    "hash": "31f2aee4e71d21fbe5cf8b01ff0e069b9275f58929596ceb00d14d90e3e16cd6"
   }
  }
 },
 "nbformat": 4,
 "nbformat_minor": 2
}
