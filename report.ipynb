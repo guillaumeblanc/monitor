{
 "cells": [
  {
   "cell_type": "code",
   "execution_count": null,
   "metadata": {},
   "outputs": [],
   "source": [
    "import glob\n",
    "import pandas as pd\n",
    "from pathlib import Path\n",
    "\n",
    "import plotly.express as px\n",
    "import plotly.io as pio\n",
    "pio.templates.default = 'plotly_white'\n",
    "\n",
    "from src import std_utils\n"
   ]
  },
  {
   "cell_type": "code",
   "execution_count": null,
   "metadata": {},
   "outputs": [],
   "source": [
    "path = Path('data/agg')\n",
    "\n",
    "# Loads plants\n",
    "plants = std_utils.from_csv(path / 'plants.csv')\n",
    "plants = plants[['plant_code', 'plant_name', 'capacity']]\n",
    "\n",
    "# Loads data, merges with plants information (to get plants name)\n",
    "realtime = pd.merge(std_utils.from_csvs(path, '**/realtime.csv'), plants, on=['plant_code'])\n",
    "hourly = pd.merge(std_utils.from_csvs(path, '**/hourly.csv'), plants, on=['plant_code'])\n",
    "daily = pd.merge(std_utils.from_csvs(path, '**/daily.csv'), plants, on=['plant_code'])\n",
    "monthly = pd.merge(std_utils.from_csvs(path, '**/monthly.csv'), plants, on=['plant_code'])\n",
    "yearly = pd.merge(std_utils.from_csvs(path, '**/yearly.csv'), plants, on=['plant_code'])"
   ]
  },
  {
   "cell_type": "code",
   "execution_count": null,
   "metadata": {},
   "outputs": [],
   "source": [
    "fig = px.bar(hourly, x='collect_time', y='inverter_power',\n",
    "             color='plant_name',\n",
    "             labels=std_utils.descriptions())\n",
    "#fig.write_html('data/hourly.html', include_plotlyjs='cdn')\n",
    "fig.show()"
   ]
  },
  {
   "cell_type": "code",
   "execution_count": null,
   "metadata": {},
   "outputs": [],
   "source": []
  },
  {
   "cell_type": "code",
   "execution_count": null,
   "metadata": {},
   "outputs": [],
   "source": []
  }
 ],
 "metadata": {
  "kernelspec": {
   "display_name": "Python 3",
   "language": "python",
   "name": "python3"
  },
  "language_info": {
   "codemirror_mode": {
    "name": "ipython",
    "version": 3
   },
   "file_extension": ".py",
   "mimetype": "text/x-python",
   "name": "python",
   "nbconvert_exporter": "python",
   "pygments_lexer": "ipython3",
   "version": "3.9.7"
  },
  "orig_nbformat": 4,
  "vscode": {
   "interpreter": {
    "hash": "88138175cbb6224e62c0ece1f7e9b6cb34c161666cf36be8b5c20091db9a983b"
   }
  }
 },
 "nbformat": 4,
 "nbformat_minor": 2
}
