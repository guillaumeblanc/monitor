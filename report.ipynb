{
 "cells": [
  {
   "cell_type": "code",
   "execution_count": null,
   "metadata": {},
   "outputs": [],
   "source": [
    "import glob\n",
    "import pandas as pd\n",
    "import matplotlib.pyplot as plt\n",
    "import seaborn as sns\n",
    "from pathlib import Path\n",
    "from datetime import datetime, timezone\n",
    "\n",
    "from src import std_utils\n"
   ]
  },
  {
   "cell_type": "code",
   "execution_count": null,
   "metadata": {},
   "outputs": [],
   "source": [
    "path = Path('data/std')\n",
    "\n",
    "# Loads plants data\n",
    "plants = pd.read_csv(path / 'plants.csv')\n",
    "plants = plants[['plant_code', 'plant_name', 'capacity']]\n",
    "\n",
    "# Merges with plants data to get in plants information (name, capacity...)\n",
    "hourly = pd.merge(pd.concat(std_utils.from_csvs(path, 'hourly_*.csv')), plants, on=['plant_code'])\n",
    "daily = pd.merge(pd.concat(std_utils.from_csvs(path, 'daily_*.csv')), plants, on=['plant_code'])\n",
    "monthly = pd.merge(pd.concat(std_utils.from_csvs(path, 'monthly_*.csv')), plants, on=['plant_code'])\n",
    "yearly = pd.merge(pd.concat(std_utils.from_csvs(path, 'yearly.csv')), plants, on=['plant_code'])\n"
   ]
  },
  {
   "cell_type": "code",
   "execution_count": null,
   "metadata": {},
   "outputs": [],
   "source": [
    "sns.boxplot(x=hourly['plant_name'], y=hourly['theory_power'])\n",
    "plt.show()"
   ]
  },
  {
   "cell_type": "code",
   "execution_count": null,
   "metadata": {},
   "outputs": [],
   "source": []
  }
 ],
 "metadata": {
  "kernelspec": {
   "display_name": "Python 3",
   "language": "python",
   "name": "python3"
  },
  "language_info": {
   "codemirror_mode": {
    "name": "ipython",
    "version": 3
   },
   "file_extension": ".py",
   "mimetype": "text/x-python",
   "name": "python",
   "nbconvert_exporter": "python",
   "pygments_lexer": "ipython3",
   "version": "3.9.6"
  },
  "orig_nbformat": 4,
  "vscode": {
   "interpreter": {
    "hash": "31f2aee4e71d21fbe5cf8b01ff0e069b9275f58929596ceb00d14d90e3e16cd6"
   }
  }
 },
 "nbformat": 4,
 "nbformat_minor": 2
}
