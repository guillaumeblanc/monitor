{
 "cells": [
  {
   "cell_type": "code",
   "execution_count": null,
   "metadata": {},
   "outputs": [],
   "source": [
    "import glob\n",
    "import pandas as pd\n",
    "import matplotlib.pyplot as plt\n",
    "import seaborn as sns\n",
    "from pathlib import Path\n",
    "from datetime import datetime, timezone\n",
    "\n",
    "from src import std_utils\n"
   ]
  },
  {
   "cell_type": "code",
   "execution_count": null,
   "metadata": {},
   "outputs": [],
   "source": [
    "# Loads plants data\n",
    "plants = pd.read_csv('data/std/plants.csv')\n",
    "plants = plants[['plant_code', 'plant_name', 'capacity']]\n",
    "\n",
    "hourly = pd.merge(pd.concat(std_utils.from_csvs(Path('data/std'), 'hourly_*.csv')), plants, on=['plant_code'])\n",
    "daily =  pd.merge(pd.concat(std_utils.from_csvs(Path('data/std'), 'daily_*.csv')), plants, on=['plant_code'])\n",
    "monthly =  pd.merge(pd.concat(std_utils.from_csvs(Path('data/std'), 'monthly_*.csv')), plants, on=['plant_code'])\n",
    "yearly =  pd.merge(pd.concat(std_utils.from_csvs(Path('data/std'), 'yearly.csv')), plants, on=['plant_code'])"
   ]
  },
  {
   "cell_type": "code",
   "execution_count": null,
   "metadata": {},
   "outputs": [],
   "source": [
    "sns.boxplot(x=hourly['plant_name'], y=hourly['theory_power'])\n",
    "plt.show()"
   ]
  },
  {
   "cell_type": "code",
   "execution_count": null,
   "metadata": {},
   "outputs": [],
   "source": []
  }
 ],
 "metadata": {
  "kernelspec": {
   "display_name": "Python 3",
   "language": "python",
   "name": "python3"
  },
  "language_info": {
   "codemirror_mode": {
    "name": "ipython",
    "version": 3
   },
   "file_extension": ".py",
   "mimetype": "text/x-python",
   "name": "python",
   "nbconvert_exporter": "python",
   "pygments_lexer": "ipython3",
   "version": "3.9.9"
  },
  "orig_nbformat": 4,
  "vscode": {
   "interpreter": {
    "hash": "89114100b3fb96f0a29903ebf0a289fbecb3cfe306c0e13fdaf56d5e8bd02f0c"
   }
  }
 },
 "nbformat": 4,
 "nbformat_minor": 2
}
