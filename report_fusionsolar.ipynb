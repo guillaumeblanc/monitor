{
 "cells": [
  {
   "cell_type": "code",
   "execution_count": 35,
   "metadata": {},
   "outputs": [],
   "source": [
    "import glob\n",
    "import pandas as pd\n",
    "import matplotlib.pyplot as plt\n",
    "import seaborn as sns\n",
    "from datetime import datetime, timezone\n"
   ]
  },
  {
   "cell_type": "code",
   "execution_count": 7,
   "metadata": {},
   "outputs": [],
   "source": [
    "def fixup_time(col) :\n",
    "    return col.map(lambda t: datetime.fromtimestamp(t / 1000.))\n",
    "\n",
    "def read_all_plant_data_csv(pattern, plants):\n",
    "    for filename in glob.glob(pattern):\n",
    "        df = pd.read_csv(filename)\n",
    "        df = pd.merge(left=df, right=plants, how='inner', on='stationCode')\n",
    "        df['collectTime'] = fixup_time(df['collectTime'])\n",
    "        yield df\n"
   ]
  },
  {
   "cell_type": "code",
   "execution_count": 14,
   "metadata": {},
   "outputs": [
    {
     "data": {
      "text/html": [
       "<div>\n",
       "<style scoped>\n",
       "    .dataframe tbody tr th:only-of-type {\n",
       "        vertical-align: middle;\n",
       "    }\n",
       "\n",
       "    .dataframe tbody tr th {\n",
       "        vertical-align: top;\n",
       "    }\n",
       "\n",
       "    .dataframe thead th {\n",
       "        text-align: right;\n",
       "    }\n",
       "</style>\n",
       "<table border=\"1\" class=\"dataframe\">\n",
       "  <thead>\n",
       "    <tr style=\"text-align: right;\">\n",
       "      <th></th>\n",
       "      <th>radiation_intensity</th>\n",
       "      <th>theory_power</th>\n",
       "      <th>inverter_power</th>\n",
       "      <th>ongrid_power</th>\n",
       "      <th>power_profit</th>\n",
       "      <th>stationCode</th>\n",
       "      <th>collectTime</th>\n",
       "      <th>stationName</th>\n",
       "      <th>capacity</th>\n",
       "    </tr>\n",
       "  </thead>\n",
       "  <tbody>\n",
       "    <tr>\n",
       "      <th>0</th>\n",
       "      <td>0.6968</td>\n",
       "      <td>17559.36</td>\n",
       "      <td>18330</td>\n",
       "      <td>18330.0</td>\n",
       "      <td>34320</td>\n",
       "      <td>5D02E8B40AD342159AC8D8A2BCD4FAB5</td>\n",
       "      <td>2017-08-04 18:00:00</td>\n",
       "      <td>test1</td>\n",
       "      <td>0.0</td>\n",
       "    </tr>\n",
       "    <tr>\n",
       "      <th>1</th>\n",
       "      <td>0.7968</td>\n",
       "      <td>17159.36</td>\n",
       "      <td>15330</td>\n",
       "      <td>15330.0</td>\n",
       "      <td>31320</td>\n",
       "      <td>5D02E8B40AD342159AC8D8A2BCD4FAB5</td>\n",
       "      <td>2017-08-04 19:00:00</td>\n",
       "      <td>test1</td>\n",
       "      <td>0.0</td>\n",
       "    </tr>\n",
       "    <tr>\n",
       "      <th>2</th>\n",
       "      <td>0.8968</td>\n",
       "      <td>17859.36</td>\n",
       "      <td>16630</td>\n",
       "      <td>17330.0</td>\n",
       "      <td>39320</td>\n",
       "      <td>5D02E8B40AD342159AC8D8A2BCD4FAB5</td>\n",
       "      <td>2017-08-04 22:00:00</td>\n",
       "      <td>test1</td>\n",
       "      <td>0.0</td>\n",
       "    </tr>\n",
       "    <tr>\n",
       "      <th>3</th>\n",
       "      <td>0.7568</td>\n",
       "      <td>19859.36</td>\n",
       "      <td>16730</td>\n",
       "      <td>16730.0</td>\n",
       "      <td>38370</td>\n",
       "      <td>5D02E8B40AD342159AC8D8A2BCD4FAB5</td>\n",
       "      <td>2017-08-05 00:00:00</td>\n",
       "      <td>test1</td>\n",
       "      <td>0.0</td>\n",
       "    </tr>\n",
       "    <tr>\n",
       "      <th>4</th>\n",
       "      <td>0.6568</td>\n",
       "      <td>20859.36</td>\n",
       "      <td>18730</td>\n",
       "      <td>19730.0</td>\n",
       "      <td>39370</td>\n",
       "      <td>5D02E8B40AD342159AC8D8A2BCD4FAB5</td>\n",
       "      <td>2017-08-05 01:00:00</td>\n",
       "      <td>test1</td>\n",
       "      <td>0.0</td>\n",
       "    </tr>\n",
       "    <tr>\n",
       "      <th>5</th>\n",
       "      <td>1.4123</td>\n",
       "      <td>659.60</td>\n",
       "      <td>18330</td>\n",
       "      <td>NaN</td>\n",
       "      <td>2088</td>\n",
       "      <td>BA4372D08E014822AB065017416F254C</td>\n",
       "      <td>2017-08-04 21:00:00</td>\n",
       "      <td>test2</td>\n",
       "      <td>0.0</td>\n",
       "    </tr>\n",
       "    <tr>\n",
       "      <th>6</th>\n",
       "      <td>1.5123</td>\n",
       "      <td>679.60</td>\n",
       "      <td>16330</td>\n",
       "      <td>NaN</td>\n",
       "      <td>2128</td>\n",
       "      <td>BA4372D08E014822AB065017416F254C</td>\n",
       "      <td>2017-08-05 01:00:00</td>\n",
       "      <td>test2</td>\n",
       "      <td>0.0</td>\n",
       "    </tr>\n",
       "  </tbody>\n",
       "</table>\n",
       "</div>"
      ],
      "text/plain": [
       "   radiation_intensity  theory_power  inverter_power  ongrid_power  \\\n",
       "0               0.6968      17559.36           18330       18330.0   \n",
       "1               0.7968      17159.36           15330       15330.0   \n",
       "2               0.8968      17859.36           16630       17330.0   \n",
       "3               0.7568      19859.36           16730       16730.0   \n",
       "4               0.6568      20859.36           18730       19730.0   \n",
       "5               1.4123        659.60           18330           NaN   \n",
       "6               1.5123        679.60           16330           NaN   \n",
       "\n",
       "   power_profit                       stationCode         collectTime  \\\n",
       "0         34320  5D02E8B40AD342159AC8D8A2BCD4FAB5 2017-08-04 18:00:00   \n",
       "1         31320  5D02E8B40AD342159AC8D8A2BCD4FAB5 2017-08-04 19:00:00   \n",
       "2         39320  5D02E8B40AD342159AC8D8A2BCD4FAB5 2017-08-04 22:00:00   \n",
       "3         38370  5D02E8B40AD342159AC8D8A2BCD4FAB5 2017-08-05 00:00:00   \n",
       "4         39370  5D02E8B40AD342159AC8D8A2BCD4FAB5 2017-08-05 01:00:00   \n",
       "5          2088  BA4372D08E014822AB065017416F254C 2017-08-04 21:00:00   \n",
       "6          2128  BA4372D08E014822AB065017416F254C 2017-08-05 01:00:00   \n",
       "\n",
       "  stationName  capacity  \n",
       "0       test1       0.0  \n",
       "1       test1       0.0  \n",
       "2       test1       0.0  \n",
       "3       test1       0.0  \n",
       "4       test1       0.0  \n",
       "5       test2       0.0  \n",
       "6       test2       0.0  "
      ]
     },
     "execution_count": 14,
     "metadata": {},
     "output_type": "execute_result"
    }
   ],
   "source": [
    "plants = pd.read_csv('out/plants.csv')\n",
    "plants = plants[['stationCode', 'stationName', 'capacity']]\n",
    "\n",
    "hourly = pd.concat(read_all_plant_data_csv('out/hourly_*.csv', plants))\n",
    "daily = pd.concat(read_all_plant_data_csv('out/daily_*.csv', plants))\n",
    "monthly = pd.concat(read_all_plant_data_csv('out/monthly_*.csv', plants))\n",
    "yearly = pd.concat(read_all_plant_data_csv('out/yearly.csv', plants))\n",
    "\n",
    "hourly"
   ]
  },
  {
   "cell_type": "code",
   "execution_count": 40,
   "metadata": {},
   "outputs": [
    {
     "data": {
      "image/png": "[encoded data removed]",
      "text/plain": [
       "<Figure size 640x480 with 1 Axes>"
      ]
     },
     "metadata": {},
     "output_type": "display_data"
    }
   ],
   "source": [
    "sns.boxplot(x=hourly['stationName'], y=hourly['theory_power'])\n",
    "plt.show()\n"
   ]
  },
  {
   "cell_type": "code",
   "execution_count": null,
   "metadata": {},
   "outputs": [],
   "source": []
  }
 ],
 "metadata": {
  "kernelspec": {
   "display_name": "Python 3",
   "language": "python",
   "name": "python3"
  },
  "language_info": {
   "codemirror_mode": {
    "name": "ipython",
    "version": 3
   },
   "file_extension": ".py",
   "mimetype": "text/x-python",
   "name": "python",
   "nbconvert_exporter": "python",
   "pygments_lexer": "ipython3",
   "version": "3.9.6"
  },
  "orig_nbformat": 4,
  "vscode": {
   "interpreter": {
    "hash": "31f2aee4e71d21fbe5cf8b01ff0e069b9275f58929596ceb00d14d90e3e16cd6"
   }
  }
 },
 "nbformat": 4,
 "nbformat_minor": 2
}
