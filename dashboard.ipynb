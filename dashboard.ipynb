{
 "cells": [
  {
   "cell_type": "code",
   "execution_count": 1,
   "metadata": {},
   "outputs": [
    {
     "data": {
      "application/javascript": "(function(root) {\n  function now() {\n    return new Date();\n  }\n\n  var force = true;\n\n  if (typeof root._bokeh_onload_callbacks === \"undefined\" || force === true) {\n    root._bokeh_onload_callbacks = [];\n    root._bokeh_is_loading = undefined;\n  }\n\n  if (typeof (root._bokeh_timeout) === \"undefined\" || force === true) {\n    root._bokeh_timeout = Date.now() + 5000;\n    root._bokeh_failed_load = false;\n  }\n\n  function run_callbacks() {\n    try {\n      root._bokeh_onload_callbacks.forEach(function(callback) {\n        if (callback != null)\n          callback();\n      });\n    } finally {\n      delete root._bokeh_onload_callbacks\n    }\n    console.debug(\"Bokeh: all callbacks have finished\");\n  }\n\n  function load_libs(css_urls, js_urls, js_modules, callback) {\n    if (css_urls == null) css_urls = [];\n    if (js_urls == null) js_urls = [];\n    if (js_modules == null) js_modules = [];\n\n    root._bokeh_onload_callbacks.push(callback);\n    if (root._bokeh_is_loading > 0) {\n      console.debug(\"Bokeh: BokehJS is being loaded, scheduling callback at\", now());\n      return null;\n    }\n    if (js_urls.length === 0 && js_modules.length === 0) {\n      run_callbacks();\n      return null;\n    }\n    console.debug(\"Bokeh: BokehJS not loaded, scheduling load and callback at\", now());\n\n    function on_load() {\n      root._bokeh_is_loading--;\n      if (root._bokeh_is_loading === 0) {\n        console.debug(\"Bokeh: all BokehJS libraries/stylesheets loaded\");\n        run_callbacks()\n      }\n    }\n\n    function on_error() {\n      console.error(\"failed to load \" + url);\n    }\n\n    for (var i = 0; i < css_urls.length; i++) {\n      var url = css_urls[i];\n      const element = document.createElement(\"link\");\n      element.onload = on_load;\n      element.onerror = on_error;\n      element.rel = \"stylesheet\";\n      element.type = \"text/css\";\n      element.href = url;\n      console.debug(\"Bokeh: injecting link tag for BokehJS stylesheet: \", url);\n      document.body.appendChild(element);\n    }\n\n    var skip = [];\n    if (window.requirejs) {\n      window.requirejs.config({'packages': {}, 'paths': {'h3': 'https://cdn.jsdelivr.net/npm/h3-js@3.7.2/dist/h3-js.umd', 'deck-gl': 'https://cdn.jsdelivr.net/npm/deck.gl@8.6.7/dist.min', 'deck-json': 'https://cdn.jsdelivr.net/npm/@deck.gl/json@8.6.7/dist.min', 'loader-csv': 'https://cdn.jsdelivr.net/npm/@loaders.gl/csv@3.1.7/dist/dist.min', 'loader-json': 'https://cdn.jsdelivr.net/npm/@loaders.gl/json@3.1.7/dist/dist.min', 'loader-tiles': 'https://cdn.jsdelivr.net/npm/@loaders.gl/3d-tiles@3.1.7/dist/dist.min', 'mapbox-gl': 'https://cdn.jsdelivr.net/npm/mapbox-gl@2.6.1/dist/mapbox-gl.min', 'plotly': 'https://cdn.plot.ly/plotly-2.18.0.min', 'gridstack': 'https://cdn.jsdelivr.net/npm/gridstack@4.2.5/dist/gridstack-h5', 'notyf': 'https://cdn.jsdelivr.net/npm/notyf@3/notyf.min'}, 'shim': {'deck-json': {'deps': ['deck-gl']}, 'deck-gl': {'deps': ['h3']}, 'gridstack': {'exports': 'GridStack'}}});\n      require([\"h3\"], function(h3) {\n\twindow.h3 = h3\n\ton_load()\n      })\n      require([\"deck-gl\"], function(deck) {\n\twindow.deck = deck\n\ton_load()\n      })\n      require([\"deck-json\"], function() {\n\ton_load()\n      })\n      require([\"loader-csv\"], function() {\n\ton_load()\n      })\n      require([\"loader-json\"], function() {\n\ton_load()\n      })\n      require([\"loader-tiles\"], function() {\n\ton_load()\n      })\n      require([\"mapbox-gl\"], function(mapboxgl) {\n\twindow.mapboxgl = mapboxgl\n\ton_load()\n      })\n      require([\"plotly\"], function(Plotly) {\n\twindow.Plotly = Plotly\n\ton_load()\n      })\n      require([\"gridstack\"], function(GridStack) {\n\twindow.GridStack = GridStack\n\ton_load()\n      })\n      require([\"notyf\"], function() {\n\ton_load()\n      })\n      root._bokeh_is_loading = css_urls.length + 10;\n    } else {\n      root._bokeh_is_loading = css_urls.length + js_urls.length + js_modules.length;\n    }    if (((window['deck'] !== undefined) && (!(window['deck'] instanceof HTMLElement))) || window.requirejs) {\n      var urls = ['https://cdn.holoviz.org/panel/0.14.4/dist/bundled/deckglplot/h3-js@3.7.2/dist/h3-js.umd.js', 'https://cdn.holoviz.org/panel/0.14.4/dist/bundled/deckglplot/deck.gl@8.6.7/dist.min.js', 'https://cdn.holoviz.org/panel/0.14.4/dist/bundled/deckglplot/@deck.gl/json@8.6.7/dist.min.js', 'https://cdn.holoviz.org/panel/0.14.4/dist/bundled/deckglplot/@loaders.gl/csv@3.1.7/dist/dist.min.js', 'https://cdn.holoviz.org/panel/0.14.4/dist/bundled/deckglplot/@loaders.gl/json@3.1.7/dist/dist.min.js', 'https://cdn.holoviz.org/panel/0.14.4/dist/bundled/deckglplot/@loaders.gl/3d-tiles@3.1.7/dist/dist.min.js'];\n      for (var i = 0; i < urls.length; i++) {\n        skip.push(urls[i])\n      }\n    }    if (((window['mapboxgl'] !== undefined) && (!(window['mapboxgl'] instanceof HTMLElement))) || window.requirejs) {\n      var urls = ['https://cdn.holoviz.org/panel/0.14.4/dist/bundled/deckglplot/mapbox-gl-js/v2.6.1/mapbox-gl.js'];\n      for (var i = 0; i < urls.length; i++) {\n        skip.push(urls[i])\n      }\n    }    if (((window['Plotly'] !== undefined) && (!(window['Plotly'] instanceof HTMLElement))) || window.requirejs) {\n      var urls = ['https://cdn.holoviz.org/panel/0.14.4/dist/bundled/plotlyplot/plotly-2.18.0.min.js'];\n      for (var i = 0; i < urls.length; i++) {\n        skip.push(urls[i])\n      }\n    }    if (((window['GridStack'] !== undefined) && (!(window['GridStack'] instanceof HTMLElement))) || window.requirejs) {\n      var urls = ['https://cdn.holoviz.org/panel/0.14.4/dist/bundled/gridstack/gridstack@4.2.5/dist/gridstack-h5.js'];\n      for (var i = 0; i < urls.length; i++) {\n        skip.push(urls[i])\n      }\n    }    if (((window['Notyf'] !== undefined) && (!(window['Notyf'] instanceof HTMLElement))) || window.requirejs) {\n      var urls = ['https://cdn.holoviz.org/panel/0.14.4/dist/bundled/notificationarea/notyf@3/notyf.min.js'];\n      for (var i = 0; i < urls.length; i++) {\n        skip.push(urls[i])\n      }\n    }    for (var i = 0; i < js_urls.length; i++) {\n      var url = js_urls[i];\n      if (skip.indexOf(url) >= 0) {\n\tif (!window.requirejs) {\n\t  on_load();\n\t}\n\tcontinue;\n      }\n      var element = document.createElement('script');\n      element.onload = on_load;\n      element.onerror = on_error;\n      element.async = false;\n      element.src = url;\n      console.debug(\"Bokeh: injecting script tag for BokehJS library: \", url);\n      document.head.appendChild(element);\n    }\n    for (var i = 0; i < js_modules.length; i++) {\n      var url = js_modules[i];\n      if (skip.indexOf(url) >= 0) {\n\tif (!window.requirejs) {\n\t  on_load();\n\t}\n\tcontinue;\n      }\n      var element = document.createElement('script');\n      element.onload = on_load;\n      element.onerror = on_error;\n      element.async = false;\n      element.src = url;\n      element.type = \"module\";\n      console.debug(\"Bokeh: injecting script tag for BokehJS library: \", url);\n      document.head.appendChild(element);\n    }\n    if (!js_urls.length && !js_modules.length) {\n      on_load()\n    }\n  };\n\n  function inject_raw_css(css) {\n    const element = document.createElement(\"style\");\n    element.appendChild(document.createTextNode(css));\n    document.body.appendChild(element);\n  }\n\n  var js_urls = [\"https://cdn.holoviz.org/panel/0.14.4/dist/bundled/deckglplot/h3-js@3.7.2/dist/h3-js.umd.js\", \"https://cdn.holoviz.org/panel/0.14.4/dist/bundled/deckglplot/deck.gl@8.6.7/dist.min.js\", \"https://cdn.holoviz.org/panel/0.14.4/dist/bundled/deckglplot/@deck.gl/json@8.6.7/dist.min.js\", \"https://cdn.holoviz.org/panel/0.14.4/dist/bundled/deckglplot/@loaders.gl/csv@3.1.7/dist/dist.min.js\", \"https://cdn.holoviz.org/panel/0.14.4/dist/bundled/deckglplot/@loaders.gl/json@3.1.7/dist/dist.min.js\", \"https://cdn.holoviz.org/panel/0.14.4/dist/bundled/deckglplot/@loaders.gl/3d-tiles@3.1.7/dist/dist.min.js\", \"https://cdn.holoviz.org/panel/0.14.4/dist/bundled/deckglplot/mapbox-gl-js/v2.6.1/mapbox-gl.js\", \"https://cdn.holoviz.org/panel/0.14.4/dist/bundled/jquery/jquery.slim.min.js\", \"https://cdn.holoviz.org/panel/0.14.4/dist/bundled/plotlyplot/plotly-2.18.0.min.js\", \"https://cdn.bokeh.org/bokeh/release/bokeh-2.4.3.min.js\", \"https://cdn.bokeh.org/bokeh/release/bokeh-gl-2.4.3.min.js\", \"https://cdn.bokeh.org/bokeh/release/bokeh-widgets-2.4.3.min.js\", \"https://cdn.bokeh.org/bokeh/release/bokeh-tables-2.4.3.min.js\", \"https://cdn.bokeh.org/bokeh/release/bokeh-mathjax-2.4.3.min.js\", \"https://unpkg.com/@holoviz/panel@0.14.4/dist/panel.min.js\"];\n  var js_modules = [];\n  var css_urls = [\"https://cdn.holoviz.org/panel/0.14.4/dist/bundled/deckglplot/mapbox-gl-js/v2.6.1/mapbox-gl.css\", \"https://cdn.holoviz.org/panel/0.14.4/dist/css/debugger.css\", \"https://cdn.holoviz.org/panel/0.14.4/dist/css/alerts.css\", \"https://cdn.holoviz.org/panel/0.14.4/dist/css/card.css\", \"https://cdn.holoviz.org/panel/0.14.4/dist/css/widgets.css\", \"https://cdn.holoviz.org/panel/0.14.4/dist/css/markdown.css\", \"https://cdn.holoviz.org/panel/0.14.4/dist/css/json.css\", \"https://cdn.holoviz.org/panel/0.14.4/dist/css/loading.css\", \"https://cdn.holoviz.org/panel/0.14.4/dist/css/dataframe.css\"];\n  var inline_js = [    function(Bokeh) {\n      inject_raw_css(\"\\n    .bk.pn-loading.arc:before {\\n      background-image: url(\\\"data:image/svg+xml;base64,PHN2ZyB4bWxucz0iaHR0cDovL3d3dy53My5vcmcvMjAwMC9zdmciIHN0eWxlPSJtYXJnaW46IGF1dG87IGJhY2tncm91bmQ6IG5vbmU7IGRpc3BsYXk6IGJsb2NrOyBzaGFwZS1yZW5kZXJpbmc6IGF1dG87IiB2aWV3Qm94PSIwIDAgMTAwIDEwMCIgcHJlc2VydmVBc3BlY3RSYXRpbz0ieE1pZFlNaWQiPiAgPGNpcmNsZSBjeD0iNTAiIGN5PSI1MCIgZmlsbD0ibm9uZSIgc3Ryb2tlPSIjYzNjM2MzIiBzdHJva2Utd2lkdGg9IjEwIiByPSIzNSIgc3Ryb2tlLWRhc2hhcnJheT0iMTY0LjkzMzYxNDMxMzQ2NDE1IDU2Ljk3Nzg3MTQzNzgyMTM4Ij4gICAgPGFuaW1hdGVUcmFuc2Zvcm0gYXR0cmlidXRlTmFtZT0idHJhbnNmb3JtIiB0eXBlPSJyb3RhdGUiIHJlcGVhdENvdW50PSJpbmRlZmluaXRlIiBkdXI9IjFzIiB2YWx1ZXM9IjAgNTAgNTA7MzYwIDUwIDUwIiBrZXlUaW1lcz0iMDsxIj48L2FuaW1hdGVUcmFuc2Zvcm0+ICA8L2NpcmNsZT48L3N2Zz4=\\\");\\n      background-size: auto calc(min(50%, 400px));\\n    }\\n    \");\n    },    function(Bokeh) {\n      Bokeh.set_log_level(\"info\");\n    },\nfunction(Bokeh) {} // ensure no trailing comma for IE\n  ];\n\n  function run_inline_js() {\n    if ((root.Bokeh !== undefined) || (force === true)) {\n      for (var i = 0; i < inline_js.length; i++) {\n        inline_js[i].call(root, root.Bokeh);\n      }} else if (Date.now() < root._bokeh_timeout) {\n      setTimeout(run_inline_js, 100);\n    } else if (!root._bokeh_failed_load) {\n      console.log(\"Bokeh: BokehJS failed to load within specified timeout.\");\n      root._bokeh_failed_load = true;\n    }\n  }\n\n  if (root._bokeh_is_loading === 0) {\n    console.debug(\"Bokeh: BokehJS loaded, going straight to plotting\");\n    run_inline_js();\n  } else {\n    load_libs(css_urls, js_urls, js_modules, function() {\n      console.debug(\"Bokeh: BokehJS plotting callback run at\", now());\n      run_inline_js();\n    });\n  }\n}(window));",
      "application/vnd.holoviews_load.v0+json": ""
     },
     "metadata": {},
     "output_type": "display_data"
    },
    {
     "data": {
      "application/javascript": "\nif ((window.PyViz === undefined) || (window.PyViz instanceof HTMLElement)) {\n  window.PyViz = {comms: {}, comm_status:{}, kernels:{}, receivers: {}, plot_index: []}\n}\n\n\n    function JupyterCommManager() {\n    }\n\n    JupyterCommManager.prototype.register_target = function(plot_id, comm_id, msg_handler) {\n      if (window.comm_manager || ((window.Jupyter !== undefined) && (Jupyter.notebook.kernel != null))) {\n        var comm_manager = window.comm_manager || Jupyter.notebook.kernel.comm_manager;\n        comm_manager.register_target(comm_id, function(comm) {\n          comm.on_msg(msg_handler);\n        });\n      } else if ((plot_id in window.PyViz.kernels) && (window.PyViz.kernels[plot_id])) {\n        window.PyViz.kernels[plot_id].registerCommTarget(comm_id, function(comm) {\n          comm.onMsg = msg_handler;\n        });\n      } else if (typeof google != 'undefined' && google.colab.kernel != null) {\n        google.colab.kernel.comms.registerTarget(comm_id, (comm) => {\n          var messages = comm.messages[Symbol.asyncIterator]();\n          function processIteratorResult(result) {\n            var message = result.value;\n            console.log(message)\n            var content = {data: message.data, comm_id};\n            var buffers = []\n            for (var buffer of message.buffers || []) {\n              buffers.push(new DataView(buffer))\n            }\n            var metadata = message.metadata || {};\n            var msg = {content, buffers, metadata}\n            msg_handler(msg);\n            return messages.next().then(processIteratorResult);\n          }\n          return messages.next().then(processIteratorResult);\n        })\n      }\n    }\n\n    JupyterCommManager.prototype.get_client_comm = function(plot_id, comm_id, msg_handler) {\n      if (comm_id in window.PyViz.comms) {\n        return window.PyViz.comms[comm_id];\n      } else if (window.comm_manager || ((window.Jupyter !== undefined) && (Jupyter.notebook.kernel != null))) {\n        var comm_manager = window.comm_manager || Jupyter.notebook.kernel.comm_manager;\n        var comm = comm_manager.new_comm(comm_id, {}, {}, {}, comm_id);\n        if (msg_handler) {\n          comm.on_msg(msg_handler);\n        }\n      } else if ((plot_id in window.PyViz.kernels) && (window.PyViz.kernels[plot_id])) {\n        var comm = window.PyViz.kernels[plot_id].connectToComm(comm_id);\n        comm.open();\n        if (msg_handler) {\n          comm.onMsg = msg_handler;\n        }\n      } else if (typeof google != 'undefined' && google.colab.kernel != null) {\n        var comm_promise = google.colab.kernel.comms.open(comm_id)\n        comm_promise.then((comm) => {\n          window.PyViz.comms[comm_id] = comm;\n          if (msg_handler) {\n            var messages = comm.messages[Symbol.asyncIterator]();\n            function processIteratorResult(result) {\n              var message = result.value;\n              var content = {data: message.data};\n              var metadata = message.metadata || {comm_id};\n              var msg = {content, metadata}\n              msg_handler(msg);\n              return messages.next().then(processIteratorResult);\n            }\n            return messages.next().then(processIteratorResult);\n          }\n        }) \n        var sendClosure = (data, metadata, buffers, disposeOnDone) => {\n          return comm_promise.then((comm) => {\n            comm.send(data, metadata, buffers, disposeOnDone);\n          });\n        };\n        var comm = {\n          send: sendClosure\n        };\n      }\n      window.PyViz.comms[comm_id] = comm;\n      return comm;\n    }\n    window.PyViz.comm_manager = new JupyterCommManager();\n    \n\n\nvar JS_MIME_TYPE = 'application/javascript';\nvar HTML_MIME_TYPE = 'text/html';\nvar EXEC_MIME_TYPE = 'application/vnd.holoviews_exec.v0+json';\nvar CLASS_NAME = 'output';\n\n/**\n * Render data to the DOM node\n */\nfunction render(props, node) {\n  var div = document.createElement(\"div\");\n  var script = document.createElement(\"script\");\n  node.appendChild(div);\n  node.appendChild(script);\n}\n\n/**\n * Handle when a new output is added\n */\nfunction handle_add_output(event, handle) {\n  var output_area = handle.output_area;\n  var output = handle.output;\n  if ((output.data == undefined) || (!output.data.hasOwnProperty(EXEC_MIME_TYPE))) {\n    return\n  }\n  var id = output.metadata[EXEC_MIME_TYPE][\"id\"];\n  var toinsert = output_area.element.find(\".\" + CLASS_NAME.split(' ')[0]);\n  if (id !== undefined) {\n    var nchildren = toinsert.length;\n    var html_node = toinsert[nchildren-1].children[0];\n    html_node.innerHTML = output.data[HTML_MIME_TYPE];\n    var scripts = [];\n    var nodelist = html_node.querySelectorAll(\"script\");\n    for (var i in nodelist) {\n      if (nodelist.hasOwnProperty(i)) {\n        scripts.push(nodelist[i])\n      }\n    }\n\n    scripts.forEach( function (oldScript) {\n      var newScript = document.createElement(\"script\");\n      var attrs = [];\n      var nodemap = oldScript.attributes;\n      for (var j in nodemap) {\n        if (nodemap.hasOwnProperty(j)) {\n          attrs.push(nodemap[j])\n        }\n      }\n      attrs.forEach(function(attr) { newScript.setAttribute(attr.name, attr.value) });\n      newScript.appendChild(document.createTextNode(oldScript.innerHTML));\n      oldScript.parentNode.replaceChild(newScript, oldScript);\n    });\n    if (JS_MIME_TYPE in output.data) {\n      toinsert[nchildren-1].children[1].textContent = output.data[JS_MIME_TYPE];\n    }\n    output_area._hv_plot_id = id;\n    if ((window.Bokeh !== undefined) && (id in Bokeh.index)) {\n      window.PyViz.plot_index[id] = Bokeh.index[id];\n    } else {\n      window.PyViz.plot_index[id] = null;\n    }\n  } else if (output.metadata[EXEC_MIME_TYPE][\"server_id\"] !== undefined) {\n    var bk_div = document.createElement(\"div\");\n    bk_div.innerHTML = output.data[HTML_MIME_TYPE];\n    var script_attrs = bk_div.children[0].attributes;\n    for (var i = 0; i < script_attrs.length; i++) {\n      toinsert[toinsert.length - 1].childNodes[1].setAttribute(script_attrs[i].name, script_attrs[i].value);\n    }\n    // store reference to server id on output_area\n    output_area._bokeh_server_id = output.metadata[EXEC_MIME_TYPE][\"server_id\"];\n  }\n}\n\n/**\n * Handle when an output is cleared or removed\n */\nfunction handle_clear_output(event, handle) {\n  var id = handle.cell.output_area._hv_plot_id;\n  var server_id = handle.cell.output_area._bokeh_server_id;\n  if (((id === undefined) || !(id in PyViz.plot_index)) && (server_id !== undefined)) { return; }\n  var comm = window.PyViz.comm_manager.get_client_comm(\"hv-extension-comm\", \"hv-extension-comm\", function () {});\n  if (server_id !== null) {\n    comm.send({event_type: 'server_delete', 'id': server_id});\n    return;\n  } else if (comm !== null) {\n    comm.send({event_type: 'delete', 'id': id});\n  }\n  delete PyViz.plot_index[id];\n  if ((window.Bokeh !== undefined) & (id in window.Bokeh.index)) {\n    var doc = window.Bokeh.index[id].model.document\n    doc.clear();\n    const i = window.Bokeh.documents.indexOf(doc);\n    if (i > -1) {\n      window.Bokeh.documents.splice(i, 1);\n    }\n  }\n}\n\n/**\n * Handle kernel restart event\n */\nfunction handle_kernel_cleanup(event, handle) {\n  delete PyViz.comms[\"hv-extension-comm\"];\n  window.PyViz.plot_index = {}\n}\n\n/**\n * Handle update_display_data messages\n */\nfunction handle_update_output(event, handle) {\n  handle_clear_output(event, {cell: {output_area: handle.output_area}})\n  handle_add_output(event, handle)\n}\n\nfunction register_renderer(events, OutputArea) {\n  function append_mime(data, metadata, element) {\n    // create a DOM node to render to\n    var toinsert = this.create_output_subarea(\n    metadata,\n    CLASS_NAME,\n    EXEC_MIME_TYPE\n    );\n    this.keyboard_manager.register_events(toinsert);\n    // Render to node\n    var props = {data: data, metadata: metadata[EXEC_MIME_TYPE]};\n    render(props, toinsert[0]);\n    element.append(toinsert);\n    return toinsert\n  }\n\n  events.on('output_added.OutputArea', handle_add_output);\n  events.on('output_updated.OutputArea', handle_update_output);\n  events.on('clear_output.CodeCell', handle_clear_output);\n  events.on('delete.Cell', handle_clear_output);\n  events.on('kernel_ready.Kernel', handle_kernel_cleanup);\n\n  OutputArea.prototype.register_mime_type(EXEC_MIME_TYPE, append_mime, {\n    safe: true,\n    index: 0\n  });\n}\n\nif (window.Jupyter !== undefined) {\n  try {\n    var events = require('base/js/events');\n    var OutputArea = require('notebook/js/outputarea').OutputArea;\n    if (OutputArea.prototype.mime_types().indexOf(EXEC_MIME_TYPE) == -1) {\n      register_renderer(events, OutputArea);\n    }\n  } catch(err) {\n  }\n}\n",
      "application/vnd.holoviews_load.v0+json": ""
     },
     "metadata": {},
     "output_type": "display_data"
    },
    {
     "data": {
      "text/html": [
       "<style>.bk-root, .bk-root .bk:before, .bk-root .bk:after {\n",
       "  font-family: var(--jp-ui-font-size1);\n",
       "  font-size: var(--jp-ui-font-size1);\n",
       "  color: var(--jp-ui-font-color1);\n",
       "}\n",
       "</style>"
      ]
     },
     "metadata": {},
     "output_type": "display_data"
    }
   ],
   "source": [
    "import panel as pn\n",
    "from panel.layout.gridstack import GridStack\n",
    "\n",
    "import plotly.express as px\n",
    "import pydeck as pdk\n",
    "\n",
    "pn.extension('deckgl', 'plotly', sizing_mode='stretch_width')\n",
    "\n",
    "# Widget utilities\n",
    "number_widget = pn.indicators.Number(\n",
    "    title_size='1em',\n",
    "    font_size='2em',\n",
    "    default_color='green',\n",
    "    sizing_mode='stretch_width')"
   ]
  },
  {
   "cell_type": "code",
   "execution_count": 2,
   "metadata": {},
   "outputs": [],
   "source": [
    "import pandas as pd\n",
    "import json\n",
    "from pathlib import Path\n",
    "import datetime\n",
    "import src.std_utils as std_utils\n",
    "\n",
    "kDataPath = Path('data/agg')\n",
    "\n",
    "def load_data():\n",
    "\n",
    "    # Loads plants\n",
    "    plants = std_utils.from_csv(kDataPath / 'plants.csv')\n",
    "    plants_name = plants[['plant_code', 'plant_name']]\n",
    "\n",
    "    # Loads data, merges with plants information (to get plants name)\n",
    "    realtime = pd.merge(std_utils.from_csvs(\n",
    "        kDataPath, '**/realtime.csv'), plants_name, on=['plant_code'])\n",
    "    hourly = pd.merge(std_utils.from_csvs(\n",
    "        kDataPath, '**/hourly.csv'), plants_name, on=['plant_code'])\n",
    "    daily = pd.merge(std_utils.from_csvs(\n",
    "        kDataPath, '**/daily.csv'), plants_name, on=['plant_code'])\n",
    "    monthly = pd.merge(std_utils.from_csvs(\n",
    "        kDataPath, '**/monthly.csv'), plants_name, on=['plant_code'])\n",
    "    yearly = pd.merge(std_utils.from_csvs(\n",
    "        kDataPath, '**/yearly.csv'), plants_name, on=['plant_code'])\n",
    "    alarms = pd.merge(std_utils.from_csvs(\n",
    "        kDataPath, '**/alarms.csv'), plants_name, on=['plant_code'])\n",
    "\n",
    "    return {'plants': plants,\n",
    "            'realtime': realtime,\n",
    "            'hourly': hourly,\n",
    "            'daily': daily,\n",
    "            'monthly': monthly,\n",
    "            'yearly': yearly,\n",
    "            'alarms': alarms}\n",
    "\n",
    "data = load_data()"
   ]
  },
  {
   "cell_type": "code",
   "execution_count": 3,
   "metadata": {},
   "outputs": [],
   "source": [
    "# Data utilities\n",
    "\n",
    "def latest_date(data):\n",
    "    return data['realtime']['collect_time'].max().to_pydatetime()\n",
    "\n",
    "\n",
    "def latest_data(data):\n",
    "    return data[data.groupby(['plant_code'])['collect_time'].transform(\n",
    "        max) == data['collect_time']]\n",
    "\n",
    "\n",
    "def data_in_range(data, begin, end):\n",
    "    return data.loc[(data['collect_time'] >= begin)\n",
    "                    & (data['collect_time'] <= end)]"
   ]
  },
  {
   "cell_type": "code",
   "execution_count": 4,
   "metadata": {},
   "outputs": [
    {
     "data": {
      "application/vnd.jupyter.widget-view+json": {
       "model_id": "7b50d21c3ad84a43aeb30f93f21c0aab",
       "version_major": 2,
       "version_minor": 0
      },
      "text/plain": [
       "BokehModel(combine_events=True, render_bundle={'docs_json': {'f8f133f1-a3f1-4e50-941c-f63f00097b40': {'defs': …"
      ]
     },
     "execution_count": 4,
     "metadata": {},
     "output_type": "execute_result"
    }
   ],
   "source": [
    "def alarm_trends(data):\n",
    "    severities = data['alarms']['alarm_severity'].value_counts()\n",
    "\n",
    "    widgets = []\n",
    "    for severity in ['Critical', 'Major', 'Minor', 'Warning']:\n",
    "        widgets.append(number_widget.clone(name=severity, value=severities.get(severity, 0), colors=[(0, 'green'), (1e3, 'red')]))\n",
    "        \n",
    "    return widgets\n",
    "\n",
    "pn.Row(*alarm_trends(data))"
   ]
  },
  {
   "cell_type": "code",
   "execution_count": 42,
   "metadata": {},
   "outputs": [
    {
     "data": {
      "application/vnd.jupyter.widget-view+json": {
       "model_id": "f4cf0e28558448ff9ee58e2e5d1ef8ec",
       "version_major": 2,
       "version_minor": 0
      },
      "text/plain": [
       "BokehModel(combine_events=True, render_bundle={'docs_json': {'1f94159e-aea9-4fb5-939c-d0eadbe8a876': {'defs': …"
      ]
     },
     "execution_count": 42,
     "metadata": {},
     "output_type": "execute_result"
    }
   ],
   "source": [
    "\n",
    "def power_trends(data):\n",
    "    latest = latest_date(data)\n",
    "\n",
    "    def power_per_plant(data, end, duration):\n",
    "        in_range = data_in_range(data, end - duration, end)\n",
    "        dl = in_range.groupby('plant_name')['inverter_power'].sum().to_frame(\n",
    "            name='total').reset_index()\n",
    "        return dl\n",
    "\n",
    "    widgets = []\n",
    "    widgets.append(number_widget.clone(name='Capacity', value=data['plants']['capacity'].sum(), format='{value} kWp'))\n",
    "\n",
    "    ds =power_per_plant(data['hourly'], latest, datetime.timedelta(1))['total'].sum()\n",
    "    widgets.append(number_widget.clone(name='Yesterday', value=round(ds, 1), format='{value} kWh'))\n",
    "\n",
    "    ms = power_per_plant(data['hourly'], latest, datetime.timedelta(30))['total'].sum()\n",
    "    widgets.append(number_widget.clone(name='Monthly', value=round(ms/1000, 1), format='{value} MWh'))\n",
    "\n",
    "    ys = power_per_plant(data['hourly'], latest, datetime.timedelta(365))['total'].sum()\n",
    "    widgets.append(number_widget.clone(name='Yearly', value=round(ys/1000,1), format='{value} MWh'))\n",
    "\n",
    "    lastest_realtime = latest_data(data['realtime'])\n",
    "    widgets.append(number_widget.clone(name = 'Total', value = round(lastest_realtime['total_power'].sum()/1000,1), format = '{value} MWh'))\n",
    "    \n",
    "    return widgets\n",
    "\n",
    "pn.Row(*power_trends(data))\n"
   ]
  },
  {
   "cell_type": "code",
   "execution_count": 43,
   "metadata": {},
   "outputs": [
    {
     "data": {
      "application/vnd.jupyter.widget-view+json": {
       "model_id": "0d869c01fbb64140b2cd2c1fff161c35",
       "version_major": 2,
       "version_minor": 0
      },
      "text/plain": [
       "BokehModel(combine_events=True, render_bundle={'docs_json': {'fee62bed-9f01-4168-88a3-fa2b5c47c83b': {'defs': …"
      ]
     },
     "execution_count": 43,
     "metadata": {},
     "output_type": "execute_result"
    }
   ],
   "source": [
    "\n",
    "def plot_qos(data):\n",
    "\n",
    "    def qos_data(data):\n",
    "        realtime = data['realtime']\n",
    "        by_plant = realtime.groupby(['plant_name'])\n",
    "        normalized = by_plant['health_state'].value_counts(normalize=True)\n",
    "        count = by_plant['health_state'].value_counts()\n",
    "\n",
    "        df = pd.DataFrame({'Quality of Service': normalized,\n",
    "                        'Days': count}).reset_index()\n",
    "        return df\n",
    "\n",
    "    qos = qos_data(data)\n",
    "    fig = px.bar(qos, x='plant_name', y='Quality of Service', color='health_state', hover_data=[\"Quality of Service\", \"Days\"], orientation='v',\n",
    "                 color_discrete_map=std_utils.health_state_colormap(), labels=std_utils.descriptions())\n",
    "    fig.update_layout(xaxis_title=None)\n",
    "    # ,config={'displayModeBar': False})\n",
    "\n",
    "    return pn.pane.Plotly(fig)\n",
    "\n",
    "plot_qos(data)\n"
   ]
  },
  {
   "cell_type": "code",
   "execution_count": 44,
   "metadata": {},
   "outputs": [
    {
     "data": {
      "application/vnd.jupyter.widget-view+json": {
       "model_id": "79e45edf0123441ea65611c8c568d1de",
       "version_major": 2,
       "version_minor": 0
      },
      "text/plain": [
       "BokehModel(combine_events=True, render_bundle={'docs_json': {'25fb7593-4787-43ff-ab91-9ca7f7416a32': {'defs': …"
      ]
     },
     "execution_count": 44,
     "metadata": {},
     "output_type": "execute_result"
    }
   ],
   "source": [
    "def realtime_plot(data):\n",
    "    realtime = data['realtime'][['collect_time', 'total_power', 'day_power', 'month_power', 'plant_name']]\n",
    "    fig = px.area(realtime, x='collect_time', y='total_power',\n",
    "                    color='plant_name',\n",
    "                    hover_data=['total_power', 'day_power', 'month_power'],\n",
    "                    color_discrete_sequence=px.colors.qualitative.D3,\n",
    "                    labels=std_utils.descriptions())\n",
    "    fig.update_traces(mode=\"markers+lines\")\n",
    "    fig.update_layout(hovermode=\"x\")\n",
    "    fig.update_layout(xaxis_title=None)  # , config={'displayModeBar': False})\n",
    "\n",
    "    return pn.pane.Plotly(fig)\n",
    "\n",
    "realtime_plot(data)"
   ]
  },
  {
   "cell_type": "code",
   "execution_count": 45,
   "metadata": {},
   "outputs": [
    {
     "data": {
      "application/vnd.jupyter.widget-view+json": {
       "model_id": "e41ae78b3e5d4dc89e2390e29078c8bb",
       "version_major": 2,
       "version_minor": 0
      },
      "text/plain": [
       "BokehModel(combine_events=True, render_bundle={'docs_json': {'d1d92525-d05e-4337-b959-84a2f6d33279': {'defs': …"
      ]
     },
     "execution_count": 45,
     "metadata": {},
     "output_type": "execute_result"
    }
   ],
   "source": [
    "\n",
    "def plot_power_ctrl(data, step, past):\n",
    "    # h = data['collect_time'].max().to_pydatetime()\n",
    "    h = datetime.datetime.now()\n",
    "    l = data['collect_time'].min()\n",
    "    # l = min(data['collect_time'].min().to_pydatetime(), h - step)\n",
    "    # l = h-step\n",
    "\n",
    "    return {'min': l,\n",
    "            'max': h,\n",
    "            'rmin': max(l, h - past) if past else l,\n",
    "            'rmax': h,\n",
    "            'step': step}\n",
    "\n",
    "def plot_power_data(data, begin, end):\n",
    "    # in_range = data.loc[(data['collect_time'] >= pd.to_datetime(range[0], utc=True).date())\n",
    "    #                     & (data['collect_time'] <= pd.to_datetime(range[1], utc=True).date())]\n",
    "    #collect_date = data['collect_time'].dt.date\n",
    "    in_range = data_in_range(data, begin, end)\n",
    "    return in_range[['collect_time', 'plant_name', 'inverter_power']]\n",
    "\n",
    "def _plot_power(data, step, past, slider_format, tickformat, dtick):\n",
    "    ctrl = plot_power_ctrl(data, step, past)\n",
    "\n",
    "    #range = date_range_picker(\n",
    "    #    'Select date range', min_date=ctrl['min'], max_date=ctrl['max'], default_start=ctrl['rmin'], default_end=ctrl['rmax'], label_visibility='collapsed')\n",
    "\n",
    "    # range = st.slider('Select date range', label_visibility='collapsed',\n",
    "    #                   min_value=ctrl['min'], max_value=ctrl['max'],\n",
    "    #                   value=(ctrl['rmin'], ctrl['rmax']),\n",
    "    #                   step=ctrl['step'], format=slider_format)\n",
    "\n",
    "    data_range = plot_power_data(data, ctrl['min'], ctrl['max'])\n",
    "\n",
    "    fig = px.bar(data_range, x='collect_time', y='inverter_power', color=\"plant_name\", #template='plotly_dark',\n",
    "                 barmode='stack', labels=std_utils.descriptions())\n",
    "    fig.update_layout(xaxis=dict(tickformat=tickformat, dtick=dtick))\n",
    "\n",
    "    return pn.pane.Plotly(fig, sizing_mode='stretch_width')\n",
    "\n",
    "\n",
    "def plot_power(data):\n",
    "    widgets = []\n",
    "    widgets.append(_plot_power(data['hourly'], datetime.timedelta(hours=1), datetime.timedelta(days=5), 'DD/MM/YYYY hh', '%Hh\\n%d %b', ''))\n",
    "    widgets.append(_plot_power(data['daily'], datetime.timedelta(days=1), datetime.timedelta(weeks=2*4), 'DD/MM/YYYY', '%d\\n%b', '24*60*60*1000'))\n",
    "    widgets.append(_plot_power(data['monthly'], datetime.timedelta(weeks=4), datetime.timedelta(weeks=2*52), 'MM/YYYY', '%b\\n%Y', 'M1'))\n",
    "    widgets.append(_plot_power(data['yearly'], datetime.timedelta(weeks=52), None, 'YYYY', '%Y', 'M12'))\n",
    "    return widgets\n",
    "\n",
    "pn.Row(*plot_power(data))\n"
   ]
  },
  {
   "cell_type": "code",
   "execution_count": 46,
   "metadata": {},
   "outputs": [
    {
     "data": {
      "application/vnd.jupyter.widget-view+json": {
       "model_id": "48763b805fa740a7a09ebef856ce831e",
       "version_major": 2,
       "version_minor": 0
      },
      "text/plain": [
       "BokehModel(combine_events=True, render_bundle={'docs_json': {'d4494273-b3ba-4a18-9a07-35e7072e8f4d': {'defs': …"
      ]
     },
     "execution_count": 46,
     "metadata": {},
     "output_type": "execute_result"
    },
    {
     "name": "stderr",
     "output_type": "stream",
     "text": [
      "WARNING:tornado.access:404 GET /favicon.ico (::1) 0.69ms\n"
     ]
    }
   ],
   "source": [
    "\n",
    "def plant_map(data):\n",
    "\n",
    "    def plant_map_data(data):\n",
    "        realtime = data['realtime']\n",
    "        # TODO move !!!\n",
    "        realtime['month_power_m'] = realtime['month_power'].apply(lambda d: f'{round(d /1000, 1)}')\n",
    "        realtime['total_power_m'] = realtime['total_power'].apply(lambda d: f'{round(d /1000, 1)}')\n",
    "        \n",
    "        lastest = realtime[realtime.groupby(['plant_code'])['collect_time'].transform(max) == realtime['collect_time']]\n",
    "\n",
    "        return pd.merge(lastest, data['plants'], on=['plant_code', 'plant_name'])\n",
    "\n",
    "    map_data = plant_map_data(data)\n",
    "\n",
    "    boundaries = {}\n",
    "    with open('resources/geo/territoire.geojson') as f:\n",
    "        boundaries = json.load(f)\n",
    "\n",
    "    geojson = pdk.Layer(\n",
    "        'GeoJsonLayer',\n",
    "        boundaries,\n",
    "        opacity=0.8,\n",
    "        stroked=True,\n",
    "        filled=False,\n",
    "        extruded=False,\n",
    "        get_line_color=[0, 0, 255],\n",
    "        line_width_min_pixels=2,\n",
    "    )\n",
    "\n",
    "    pv = pdk.Layer(\n",
    "        'ColumnLayer',\n",
    "        data=map_data,\n",
    "        get_position='[longitude,latitude]',\n",
    "        radius=80,\n",
    "        auto_highlight=True,\n",
    "        elevation_scale=50,\n",
    "        pickable=True,\n",
    "        opacity=0.5,\n",
    "        get_fill_color='(health_state == \"Healthy\") ? [0, 255, 0, 255] : ((health_state == \"Faulty\") ? [255, 0, 0, 255]: [128, 128, 128, 255])',\n",
    "        get_elevation='capacity',\n",
    "        extruded=True)\n",
    "\n",
    "    tooltip = {\n",
    "        \"html\": \"<b>{plant_name}</b><br>{plant_addr}<br>Capacity: {capacity} kWc<br>Status: {health_state}<br>Last day: {day_power} kWh<br>Last month: {month_power_m} MWh<br> Total: {total_power_m} MWh\",\n",
    "        \"style\": {\n",
    "            \"background\": \"grey\",\n",
    "            \"color\": \"white\",\n",
    "            \"z-index\": \"10000\"}\n",
    "    }\n",
    "\n",
    "    view_state = pdk.ViewState(\n",
    "        latitude=45.71,\n",
    "        longitude=5.87,\n",
    "        zoom=11,\n",
    "        min_zoom=9,\n",
    "        max_zoom=15,\n",
    "        pitch=50,\n",
    "        bearing=0\n",
    "    )\n",
    "\n",
    "    deck = pdk.Deck(map_style='road', layers=[geojson, pv], initial_view_state=view_state, tooltip=tooltip)\n",
    "    return pn.pane.DeckGL(deck, sizing_mode='stretch_both')\n",
    "\n",
    "plant_map(data)"
   ]
  },
  {
   "cell_type": "markdown",
   "metadata": {
    "tags": [
     "parameters"
    ]
   },
   "source": [
    "app = pn.template.react.ReactTemplate(\n",
    "    title='SuperCV', logo='resources/logo.png', theme=pn.template.react.ReactDarkTheme)\n",
    "\n",
    "app.main[:,     0:1] = pn.Column(*alarm_trends(data))\n",
    "app.main[0:1,   1:12] = pn.Row(*power_trends(data))\n",
    "app.main[1:4,   1:12] = pn.Tabs(('Lifetime', realtime_plot(data)), *plot_power(data))\n",
    "app.main[4:6,   7:12] = plant_map(data)\n",
    "app.main[4:6,   1:6] = plot_qos(data)\n",
    "\n",
    "app.show();\n"
   ]
  },
  {
   "cell_type": "code",
   "execution_count": 47,
   "metadata": {},
   "outputs": [
    {
     "name": "stdout",
     "output_type": "stream",
     "text": [
      "Launching server at http://localhost:51362\n"
     ]
    },
    {
     "data": {
      "text/plain": [
       "<panel.io.server.Server at 0x11b32b970>"
      ]
     },
     "execution_count": 47,
     "metadata": {},
     "output_type": "execute_result"
    }
   ],
   "source": [
    "#app = pn.template.MaterialTemplate(title='SuperCV', logo='resources/logo.png')\n",
    "\n",
    "stack = pn.GridSpec(sizing_mode='stretch_both')\n",
    "#app.main.append(stack)\n",
    "app = stack\n",
    "\n",
    "stack[:,     0:1] = pn.WidgetBox(pn.Column(*alarm_trends(data)))\n",
    "stack[0:1,   1:12] = pn.WidgetBox(pn.Row(*power_trends(data)))\n",
    "stack[1:4,   1:12] = pn.WidgetBox(pn.Tabs(('Lifetime', realtime_plot(data)), *plot_power(data)))\n",
    "stack[4:6,   7:12] = pn.WidgetBox(plant_map(data))\n",
    "stack[4:6,   1:6] = pn.WidgetBox(plot_qos(data))\n",
    "\n",
    "app.show()\n"
   ]
  },
  {
   "cell_type": "code",
   "execution_count": null,
   "metadata": {},
   "outputs": [],
   "source": []
  }
 ],
 "metadata": {
  "kernelspec": {
   "display_name": "Python 3",
   "language": "python",
   "name": "python3"
  },
  "language_info": {
   "codemirror_mode": {
    "name": "ipython",
    "version": 3
   },
   "file_extension": ".py",
   "mimetype": "text/x-python",
   "name": "python",
   "nbconvert_exporter": "python",
   "pygments_lexer": "ipython3",
   "version": "3.9.6"
  },
  "orig_nbformat": 4
 },
 "nbformat": 4,
 "nbformat_minor": 2
}
